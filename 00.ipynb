{
 "cells": [
  {
   "cell_type": "code",
   "execution_count": 1,
   "id": "4010fa58-5c42-44da-bbba-cf26b29ea9df",
   "metadata": {},
   "outputs": [],
   "source": [
    "import torch,torchvision\n",
    "import numpy as np\n",
    "import pandas as pd\n",
    "import matplotlib.pyplot as plt\n",
    "from torch.nn import *\n",
    "from torch.optim import *\n",
    "from tqdm import tqdm\n",
    "import wandb\n",
    "import cv2\n",
    "PROJECT_NAME = 'Ethereum-Price-Prediction'\n",
    "device = 'cuda:0'"
   ]
  },
  {
   "cell_type": "code",
   "execution_count": 2,
   "id": "7285e414-1cc2-439f-9752-9c2354d53f34",
   "metadata": {},
   "outputs": [],
   "source": [
    "data = pd.read_csv('./data.csv')"
   ]
  },
  {
   "cell_type": "code",
   "execution_count": 3,
   "id": "c060240c-2df5-4849-bfe4-d351cad2c8df",
   "metadata": {},
   "outputs": [
    {
     "data": {
      "text/html": [
       "<div>\n",
       "<style scoped>\n",
       "    .dataframe tbody tr th:only-of-type {\n",
       "        vertical-align: middle;\n",
       "    }\n",
       "\n",
       "    .dataframe tbody tr th {\n",
       "        vertical-align: top;\n",
       "    }\n",
       "\n",
       "    .dataframe thead th {\n",
       "        text-align: right;\n",
       "    }\n",
       "</style>\n",
       "<table border=\"1\" class=\"dataframe\">\n",
       "  <thead>\n",
       "    <tr style=\"text-align: right;\">\n",
       "      <th></th>\n",
       "      <th>Date</th>\n",
       "      <th>Price</th>\n",
       "      <th>Open</th>\n",
       "      <th>High</th>\n",
       "      <th>Low</th>\n",
       "      <th>Vol.</th>\n",
       "      <th>Change %</th>\n",
       "    </tr>\n",
       "  </thead>\n",
       "  <tbody>\n",
       "    <tr>\n",
       "      <th>100</th>\n",
       "      <td>May 01, 2021</td>\n",
       "      <td>2,944.66</td>\n",
       "      <td>2,772.27</td>\n",
       "      <td>2,951.74</td>\n",
       "      <td>2,753.60</td>\n",
       "      <td>1.51M</td>\n",
       "      <td>6.20%</td>\n",
       "    </tr>\n",
       "    <tr>\n",
       "      <th>101</th>\n",
       "      <td>Apr 30, 2021</td>\n",
       "      <td>2,772.78</td>\n",
       "      <td>2,757.02</td>\n",
       "      <td>2,797.61</td>\n",
       "      <td>2,726.03</td>\n",
       "      <td>1.52M</td>\n",
       "      <td>0.56%</td>\n",
       "    </tr>\n",
       "    <tr>\n",
       "      <th>102</th>\n",
       "      <td>Apr 29, 2021</td>\n",
       "      <td>2,757.36</td>\n",
       "      <td>2,746.51</td>\n",
       "      <td>2,797.52</td>\n",
       "      <td>2,670.35</td>\n",
       "      <td>1.65M</td>\n",
       "      <td>0.39%</td>\n",
       "    </tr>\n",
       "    <tr>\n",
       "      <th>103</th>\n",
       "      <td>Apr 28, 2021</td>\n",
       "      <td>2,746.54</td>\n",
       "      <td>2,665.83</td>\n",
       "      <td>2,759.03</td>\n",
       "      <td>2,562.74</td>\n",
       "      <td>1.74M</td>\n",
       "      <td>3.05%</td>\n",
       "    </tr>\n",
       "    <tr>\n",
       "      <th>104</th>\n",
       "      <td>Apr 27, 2021</td>\n",
       "      <td>2,665.24</td>\n",
       "      <td>2,531.07</td>\n",
       "      <td>2,677.95</td>\n",
       "      <td>2,484.44</td>\n",
       "      <td>1.45M</td>\n",
       "      <td>5.22%</td>\n",
       "    </tr>\n",
       "    <tr>\n",
       "      <th>...</th>\n",
       "      <td>...</td>\n",
       "      <td>...</td>\n",
       "      <td>...</td>\n",
       "      <td>...</td>\n",
       "      <td>...</td>\n",
       "      <td>...</td>\n",
       "      <td>...</td>\n",
       "    </tr>\n",
       "    <tr>\n",
       "      <th>1974</th>\n",
       "      <td>Mar 14, 2016</td>\n",
       "      <td>12.5</td>\n",
       "      <td>15.07</td>\n",
       "      <td>15.07</td>\n",
       "      <td>11.4</td>\n",
       "      <td>92.18K</td>\n",
       "      <td>-17.05%</td>\n",
       "    </tr>\n",
       "    <tr>\n",
       "      <th>1975</th>\n",
       "      <td>Mar 13, 2016</td>\n",
       "      <td>15.07</td>\n",
       "      <td>12.92</td>\n",
       "      <td>15.07</td>\n",
       "      <td>12.92</td>\n",
       "      <td>1.30K</td>\n",
       "      <td>16.64%</td>\n",
       "    </tr>\n",
       "    <tr>\n",
       "      <th>1976</th>\n",
       "      <td>Mar 12, 2016</td>\n",
       "      <td>12.92</td>\n",
       "      <td>11.95</td>\n",
       "      <td>13.45</td>\n",
       "      <td>11.95</td>\n",
       "      <td>0.83K</td>\n",
       "      <td>8.12%</td>\n",
       "    </tr>\n",
       "    <tr>\n",
       "      <th>1977</th>\n",
       "      <td>Mar 11, 2016</td>\n",
       "      <td>11.95</td>\n",
       "      <td>11.75</td>\n",
       "      <td>11.95</td>\n",
       "      <td>11.75</td>\n",
       "      <td>0.18K</td>\n",
       "      <td>1.70%</td>\n",
       "    </tr>\n",
       "    <tr>\n",
       "      <th>1978</th>\n",
       "      <td>Mar 10, 2016</td>\n",
       "      <td>11.75</td>\n",
       "      <td>11.2</td>\n",
       "      <td>11.85</td>\n",
       "      <td>11.07</td>\n",
       "      <td>0.00K</td>\n",
       "      <td>4.91%</td>\n",
       "    </tr>\n",
       "  </tbody>\n",
       "</table>\n",
       "<p>1879 rows × 7 columns</p>\n",
       "</div>"
      ],
      "text/plain": [
       "              Date     Price      Open      High       Low    Vol. Change %\n",
       "100   May 01, 2021  2,944.66  2,772.27  2,951.74  2,753.60   1.51M    6.20%\n",
       "101   Apr 30, 2021  2,772.78  2,757.02  2,797.61  2,726.03   1.52M    0.56%\n",
       "102   Apr 29, 2021  2,757.36  2,746.51  2,797.52  2,670.35   1.65M    0.39%\n",
       "103   Apr 28, 2021  2,746.54  2,665.83  2,759.03  2,562.74   1.74M    3.05%\n",
       "104   Apr 27, 2021  2,665.24  2,531.07  2,677.95  2,484.44   1.45M    5.22%\n",
       "...            ...       ...       ...       ...       ...     ...      ...\n",
       "1974  Mar 14, 2016      12.5     15.07     15.07      11.4  92.18K  -17.05%\n",
       "1975  Mar 13, 2016     15.07     12.92     15.07     12.92   1.30K   16.64%\n",
       "1976  Mar 12, 2016     12.92     11.95     13.45     11.95   0.83K    8.12%\n",
       "1977  Mar 11, 2016     11.95     11.75     11.95     11.75   0.18K    1.70%\n",
       "1978  Mar 10, 2016     11.75      11.2     11.85     11.07   0.00K    4.91%\n",
       "\n",
       "[1879 rows x 7 columns]"
      ]
     },
     "execution_count": 3,
     "metadata": {},
     "output_type": "execute_result"
    }
   ],
   "source": [
    "data.iloc[100:]"
   ]
  },
  {
   "cell_type": "code",
   "execution_count": 4,
   "id": "9fcba6f6-e1bc-403e-a9f6-b63cd5f61477",
   "metadata": {},
   "outputs": [],
   "source": [
    "X = data['Date'][100:]"
   ]
  },
  {
   "cell_type": "code",
   "execution_count": 5,
   "id": "662acc35-02df-49a4-9054-1e4d5987f360",
   "metadata": {},
   "outputs": [],
   "source": [
    "y = data['Price'][100:]"
   ]
  },
  {
   "cell_type": "code",
   "execution_count": 6,
   "id": "d3a63749-bbee-49f0-aa48-77265b232b59",
   "metadata": {},
   "outputs": [],
   "source": [
    "month_labels = {}"
   ]
  },
  {
   "cell_type": "code",
   "execution_count": 7,
   "id": "f83608dc-ae62-4a7e-b8f6-d3ed03febf77",
   "metadata": {},
   "outputs": [],
   "source": [
    "idx = -1"
   ]
  },
  {
   "cell_type": "code",
   "execution_count": 8,
   "id": "fc77c75c-5afe-44f4-899f-fde160c337e9",
   "metadata": {},
   "outputs": [],
   "source": [
    "for date in X:\n",
    "    date = date.split(' ')\n",
    "    if date[0] not in list(month_labels.keys()):\n",
    "        idx += 1\n",
    "        month_labels[date[0]] = idx"
   ]
  },
  {
   "cell_type": "code",
   "execution_count": 9,
   "id": "6599bf98-5862-4427-8156-cc369e551692",
   "metadata": {},
   "outputs": [],
   "source": [
    "new_X = []"
   ]
  },
  {
   "cell_type": "code",
   "execution_count": 10,
   "id": "76b8a9d3-7d19-40d2-b772-e3ccf2429869",
   "metadata": {},
   "outputs": [],
   "source": [
    "for date in X:\n",
    "    date = date.split(' ')\n",
    "    date[0] = month_labels[date[0]]\n",
    "    date[1] = int(date[1].replace(',',''))\n",
    "    date[2] = int(date[2])\n",
    "    date = int(f'{date[0]}{date[1]}{date[2]}')\n",
    "    new_X.append(date)"
   ]
  },
  {
   "cell_type": "code",
   "execution_count": 11,
   "id": "687f42d1-f53f-49ca-83a3-55aa30574bbe",
   "metadata": {},
   "outputs": [],
   "source": [
    "X = torch.from_numpy(np.array(new_X))"
   ]
  },
  {
   "cell_type": "code",
   "execution_count": 12,
   "id": "5c150c48-62d5-45f5-8523-b126c03b36d2",
   "metadata": {},
   "outputs": [],
   "source": [
    "new_y = []"
   ]
  },
  {
   "cell_type": "code",
   "execution_count": 13,
   "id": "41112416-fab3-4870-8f41-673ea7fc0d2a",
   "metadata": {},
   "outputs": [],
   "source": [
    "for price in y:\n",
    "    price = float(price.replace(',',''))\n",
    "    new_y.append(price)"
   ]
  },
  {
   "cell_type": "code",
   "execution_count": 14,
   "id": "04e46158-bb49-4927-9fed-06f216101c5d",
   "metadata": {},
   "outputs": [],
   "source": [
    "y = torch.from_numpy(np.array(new_y))"
   ]
  },
  {
   "cell_type": "code",
   "execution_count": 15,
   "id": "95930d85-3e86-413d-b062-4253aa4de378",
   "metadata": {},
   "outputs": [],
   "source": [
    "class LSTMPredictor(Module):\n",
    "    def __init__(self,n_hidden=512):\n",
    "        super().__init__()\n",
    "        self.n_hidden = n_hidden\n",
    "        # lstm1, lstm2, linear\n",
    "        self.lstm1 = LSTMCell(1,self.n_hidden).to(device)\n",
    "        self.lstm2 = LSTMCell(self.n_hidden,self.n_hidden).to(device)\n",
    "        self.linear = Linear(self.n_hidden,1).to(device)\n",
    "    \n",
    "    def forward(self,X,future=0):\n",
    "        outputs = []\n",
    "        n_samples = X.size(0)\n",
    "        h_t = torch.zeros(n_samples,self.n_hidden,dtype=torch.float32)\n",
    "        c_t = torch.zeros(n_samples,self.n_hidden,dtype=torch.float32)\n",
    "        h_t2 = torch.zeros(n_samples,self.n_hidden,dtype=torch.float32)\n",
    "        c_t2 = torch.zeros(n_samples,self.n_hidden,dtype=torch.float32)\n",
    "        for input_t in X.split(1,dim=1):\n",
    "            input_t = input_t.to(device)\n",
    "            h_t = h_t.to(device)\n",
    "            c_t = c_t.to(device)\n",
    "            h_t,c_t = self.lstm1(input_t,(h_t,c_t))\n",
    "            h_t = h_t.to(device)\n",
    "            c_t = c_t.to(device)\n",
    "            h_t2 = h_t2.to(device)\n",
    "            c_t2 = c_t2.to(device)\n",
    "            h_t2,c_t2 = self.lstm2(h_t,(h_t2,c_t2))\n",
    "            h_t2 = h_t2.to(device)\n",
    "            c_t2 = c_t2.to(device)\n",
    "            output = self.linear(h_t2)\n",
    "            output = output.to(device)\n",
    "            outputs.append(output)\n",
    "        for i in range(future):\n",
    "            h_t,c_t = self.lstm1(output,(h_t,c_t))\n",
    "            h_t2,c_t2 = self.lstm2(h_t,(h_t2,c_t2))\n",
    "            output = self.linear(h_t2)\n",
    "            outputs.append(output)\n",
    "        outputs = torch.cat(outputs,dim=1)\n",
    "        return outputs"
   ]
  },
  {
   "cell_type": "code",
   "execution_count": 16,
   "id": "43ff17cc-5e14-4053-8201-53277d2bd30f",
   "metadata": {},
   "outputs": [],
   "source": [
    "epochs = 18"
   ]
  },
  {
   "cell_type": "code",
   "execution_count": 17,
   "id": "8958dccd-678a-4447-a5fa-0c09440318c8",
   "metadata": {},
   "outputs": [],
   "source": [
    "batch_size = len(y)"
   ]
  },
  {
   "cell_type": "code",
   "execution_count": 18,
   "id": "57c3b53b-0fde-4b6c-9734-c49e470248cc",
   "metadata": {},
   "outputs": [],
   "source": [
    "data_input = torch.from_numpy(np.array(y)).view(1,-1)[:3,:-1].float().to(device)\n",
    "data_target = torch.from_numpy(np.array(y)).view(1,-1)[:3,1:].float().to(device)"
   ]
  },
  {
   "cell_type": "code",
   "execution_count": 19,
   "id": "34924610-c912-471c-a738-acbbf771a423",
   "metadata": {},
   "outputs": [
    {
     "data": {
      "text/plain": [
       "LSTMPredictor(\n",
       "  (lstm1): LSTMCell(1, 512)\n",
       "  (lstm2): LSTMCell(512, 512)\n",
       "  (linear): Linear(in_features=512, out_features=1, bias=True)\n",
       ")"
      ]
     },
     "execution_count": 19,
     "metadata": {},
     "output_type": "execute_result"
    }
   ],
   "source": [
    "model = LSTMPredictor().to(device)\n",
    "model.to(device)"
   ]
  },
  {
   "cell_type": "code",
   "execution_count": 20,
   "id": "c2b16e1e-ced4-4d00-943d-9466fce7c697",
   "metadata": {},
   "outputs": [],
   "source": [
    "criterion = MSELoss()"
   ]
  },
  {
   "cell_type": "code",
   "execution_count": 21,
   "id": "357edef2-4659-49f3-8742-00712aa906da",
   "metadata": {},
   "outputs": [],
   "source": [
    "optimizer = LBFGS(model.parameters(),lr=0.8)"
   ]
  },
  {
   "cell_type": "code",
   "execution_count": null,
   "id": "9c760b24-9510-4e04-a82c-4a5a301f1950",
   "metadata": {},
   "outputs": [
    {
     "name": "stderr",
     "output_type": "stream",
     "text": [
      "\u001b[34m\u001b[1mwandb\u001b[0m: Currently logged in as: \u001b[33mranuga-d\u001b[0m (use `wandb login --relogin` to force relogin)\n"
     ]
    },
    {
     "data": {
      "text/html": [
       "\n",
       "                Tracking run with wandb version 0.12.0<br/>\n",
       "                Syncing run <strong style=\"color:#cdcd00\">baseline</strong> to <a href=\"https://wandb.ai\" target=\"_blank\">Weights & Biases</a> <a href=\"https://docs.wandb.com/integrations/jupyter.html\" target=\"_blank\">(Documentation)</a>.<br/>\n",
       "                Project page: <a href=\"https://wandb.ai/ranuga-d/Ethereum-Price-Prediction\" target=\"_blank\">https://wandb.ai/ranuga-d/Ethereum-Price-Prediction</a><br/>\n",
       "                Run page: <a href=\"https://wandb.ai/ranuga-d/Ethereum-Price-Prediction/runs/1rppfnji\" target=\"_blank\">https://wandb.ai/ranuga-d/Ethereum-Price-Prediction/runs/1rppfnji</a><br/>\n",
       "                Run data is saved locally in <code>/home/indika/Programming/Projects/Python/Artifical-Intelligence/PyTorch/RNN/Ethereum-Price-Prediction/wandb/run-20210818_140333-1rppfnji</code><br/><br/>\n",
       "            "
      ],
      "text/plain": [
       "<IPython.core.display.HTML object>"
      ]
     },
     "metadata": {},
     "output_type": "display_data"
    },
    {
     "name": "stderr",
     "output_type": "stream",
     "text": [
      " 56%|█████▌    | 10/18 [05:18<04:21, 32.75s/it]"
     ]
    }
   ],
   "source": [
    "wandb.init(project=PROJECT_NAME,name='baseline')\n",
    "for _ in tqdm(range(epochs)):\n",
    "    for idx in range(0,len(y),batch_size):\n",
    "        y_batch_input = data_input[idx:idx+batch_size].float().to(device)\n",
    "        y_batch_target = data_target[idx:idx+batch_size].float().to(device)\n",
    "        torch.cuda.empty_cache()\n",
    "        def closure():\n",
    "            optimizer.zero_grad()\n",
    "            data_input.cuda()\n",
    "            data_target.cuda()\n",
    "            model.cuda()\n",
    "            out = model(data_input.cuda()).cuda()\n",
    "            out.cuda()\n",
    "            loss = criterion(out,data_target)\n",
    "            wandb.log({'loss':loss.item()})\n",
    "            loss.backward()\n",
    "            return loss\n",
    "        optimizer.step(closure)\n",
    "        with torch.no_grad():\n",
    "            future = 125\n",
    "            pred = model(data_input,future=future)\n",
    "            loss = criterion(pred[:,:-future],data_target)\n",
    "            y = pred.to('cpu').detach().numpy()\n",
    "            wandb.log({'Val Loss':loss.item()})\n",
    "    plt.figure(figsize=(12,6))\n",
    "    n = data_input.shape[1]\n",
    "    def draw(y_i,color):\n",
    "        plt.plot(np.arange(n),data_target.cpu().view(-1),color)\n",
    "        plt.plot(np.arange(n,n+future),y_i[n:],color + ':')\n",
    "    draw(y[0],'r')\n",
    "    plt.savefig('./preds/img.png')\n",
    "    plt.close()\n",
    "    wandb.log({'Img':wandb.Image(cv2.imread('./preds/img.png'))})\n",
    "wandb.finish()"
   ]
  },
  {
   "cell_type": "code",
   "execution_count": null,
   "id": "4b13e1fa-521f-4c8b-a94e-7e8fe6d05dd5",
   "metadata": {},
   "outputs": [],
   "source": [
    "pres = [StandardScaler(),RobustScaler(),MinMaxScaler(),MaxAbsScaler(),Normalizer()]"
   ]
  },
  {
   "cell_type": "code",
   "execution_count": null,
   "id": "99765061-262d-472b-b990-6d35186efdca",
   "metadata": {},
   "outputs": [],
   "source": [
    "y_old = y"
   ]
  },
  {
   "cell_type": "code",
   "execution_count": null,
   "id": "134f56e2-01c9-4fc3-b175-74c80c906f6e",
   "metadata": {},
   "outputs": [],
   "source": [
    "for pre in pres:\n",
    "    y = y_old\n",
    "    pre.fit(y.view(-1,1))\n",
    "    y = pre.transform(y.view(-1,1))\n",
    "    model = LSTMPredictor().to(device)\n",
    "    model.to(device)\n",
    "    criterion = MSELoss()\n",
    "    optimizer = LBFGS(model.parameters(),lr=0.8)\n",
    "    data_input = torch.from_numpy(np.array(y)).view(1,-1)[:3,:-1].float().to(device)\n",
    "    data_target = torch.from_numpy(np.array(y)).view(1,-1)[:3,1:].float().to(device)\n",
    "    for _ in tqdm(range(epochs)):\n",
    "        for idx in range(0,len(y),batch_size):\n",
    "            y_input_batch = data_input[idx:idx+batch_size]\n",
    "            y_target_batch = data_target[idx:idx+batch_size]\n",
    "            def closure():\n",
    "                optimizer.zero_grad()\n",
    "                preds = model(y_input_batch)\n",
    "                loss = criterion(preds,y_target_batch)\n",
    "                wandb.log({'Loss':loss.item()})\n",
    "                loss.backward()\n",
    "                return loss\n",
    "            optimizer.step(closure)\n",
    "            with torch.no_grad():\n",
    "                future = 100\n",
    "                preds = model(data_input,future)\n",
    "                loss = criterion(preds,data_target)\n",
    "                wandb.log({'Val Loss':loss.item()})\n",
    "                test_preds = preds.cpu().detach().numpy()\n",
    "        plt.figure(figsize=(12,6))\n",
    "        n = data_input_batch.shape[1]\n",
    "        def draw(y_i,color):\n",
    "            plt.plot(np.arange(n),data_target.cpu().view(-1),color)\n",
    "            plt.plot(np.arange(n,n+future),y_i[n:],color + ':')\n",
    "        draw(y[0],'r')\n",
    "        plt.savefig('./preds/img.png')\n",
    "        plt.close()\n",
    "        wandb.log({'Img':wandb.Image(cv2.imread('./preds/img.png'))})"
   ]
  },
  {
   "cell_type": "code",
   "execution_count": null,
   "id": "15f39d61-a3a2-49b6-8d96-a8fd2b55153b",
   "metadata": {},
   "outputs": [],
   "source": []
  }
 ],
 "metadata": {
  "kernelspec": {
   "display_name": "Python 3.7.3 64-bit ('base': conda)",
   "language": "python",
   "name": "python373jvsc74a57bd0210f9608a45c0278a93c9e0b10db32a427986ab48cfc0d20c139811eb78c4bbc"
  },
  "language_info": {
   "codemirror_mode": {
    "name": "ipython",
    "version": 3
   },
   "file_extension": ".py",
   "mimetype": "text/x-python",
   "name": "python",
   "nbconvert_exporter": "python",
   "pygments_lexer": "ipython3",
   "version": "3.7.7"
  }
 },
 "nbformat": 4,
 "nbformat_minor": 5
}
